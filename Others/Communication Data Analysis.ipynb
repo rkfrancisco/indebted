{
 "cells": [
  {
   "cell_type": "code",
   "execution_count": 1,
   "metadata": {},
   "outputs": [],
   "source": [
    "import numpy as np\n",
    "import pandas as pd\n",
    "from numpy import unique"
   ]
  },
  {
   "cell_type": "code",
   "execution_count": 2,
   "metadata": {},
   "outputs": [],
   "source": [
    "def wrangle(filepath):\n",
    "    df=pd.read_csv(filepath)\n",
    "    return df"
   ]
  },
  {
   "cell_type": "code",
   "execution_count": 3,
   "metadata": {},
   "outputs": [
    {
     "name": "stdout",
     "output_type": "stream",
     "text": [
      "(145941, 15)\n",
      "                         message_id                       customer_id  \\\n",
      "0  28d82c62db5989d9441351f58738c6a8  f13e966f9dc1e2aa7bffec6c9efa8e11   \n",
      "1  0f98a1bbf7f2b66f420816a65c8d9b77  f13e966f9dc1e2aa7bffec6c9efa8e11   \n",
      "2  97f9ed967d2334ce0b4ebfcfc9b5c25c  f13e966f9dc1e2aa7bffec6c9efa8e11   \n",
      "3  3d0615ca493d69e16265ab688495c134  f13e966f9dc1e2aa7bffec6c9efa8e11   \n",
      "4  3eb3a03a007bd1adf7482e6d95f7b942  f13e966f9dc1e2aa7bffec6c9efa8e11   \n",
      "\n",
      "                            sent_at  clicked  converted  \\\n",
      "0  2021-01-04 10:03:16.376000+00:00        0          0   \n",
      "1  2021-01-12 08:34:09.376000+00:00        0          0   \n",
      "2  2021-01-19 08:58:11.376000+00:00        0          0   \n",
      "3  2021-01-28 10:43:04.376000+00:00        0          0   \n",
      "4  2021-02-04 11:28:56.376000+00:00        0          0   \n",
      "\n",
      "                          client_id gender customer_country   age  \\\n",
      "0  cfcd208495d565ef66e7dff9f98764da      F              NaN  51.0   \n",
      "1  cfcd208495d565ef66e7dff9f98764da      F              NaN  51.0   \n",
      "2  cfcd208495d565ef66e7dff9f98764da      F              NaN  51.0   \n",
      "3  cfcd208495d565ef66e7dff9f98764da      F              NaN  51.0   \n",
      "4  cfcd208495d565ef66e7dff9f98764da      F              NaN  51.0   \n",
      "\n",
      "                         created_at client_name product_type client_country  \\\n",
      "0  2021-01-03 15:58:50.376000+00:00     SwanPay         BNPL             UK   \n",
      "1  2021-01-03 15:58:50.376000+00:00     SwanPay         BNPL             UK   \n",
      "2  2021-01-03 15:58:50.376000+00:00     SwanPay         BNPL             UK   \n",
      "3  2021-01-03 15:58:50.376000+00:00     SwanPay         BNPL             UK   \n",
      "4  2021-01-03 15:58:50.376000+00:00     SwanPay         BNPL             UK   \n",
      "\n",
      "  channel  message_number  \n",
      "0     SMS               1  \n",
      "1     SMS               2  \n",
      "2   Email               3  \n",
      "3   Email               4  \n",
      "4   Email               5  \n"
     ]
    }
   ],
   "source": [
    "df = wrangle(\"communications.csv\")\n",
    "print(df.shape)\n",
    "print(df.head())"
   ]
  },
  {
   "cell_type": "code",
   "execution_count": 4,
   "metadata": {},
   "outputs": [
    {
     "name": "stdout",
     "output_type": "stream",
     "text": [
      "message_id          145941\n",
      "customer_id           9751\n",
      "sent_at             145937\n",
      "clicked                  2\n",
      "converted                2\n",
      "client_id                8\n",
      "gender                   2\n",
      "customer_country         3\n",
      "age                     79\n",
      "created_at            9751\n",
      "client_name              8\n",
      "product_type             3\n",
      "client_country           3\n",
      "channel                  2\n",
      "message_number          39\n",
      "dtype: int64\n"
     ]
    }
   ],
   "source": [
    "counts=df.nunique()\n",
    "print(counts)"
   ]
  },
  {
   "cell_type": "code",
   "execution_count": 5,
   "metadata": {
    "scrolled": true
   },
   "outputs": [
    {
     "name": "stdout",
     "output_type": "stream",
     "text": [
      "Index([], dtype='object')\n",
      "message_id          145941\n",
      "customer_id           9751\n",
      "sent_at             145937\n",
      "clicked                  2\n",
      "converted                2\n",
      "client_id                8\n",
      "gender                   2\n",
      "customer_country         3\n",
      "age                     79\n",
      "created_at            9751\n",
      "client_name              8\n",
      "product_type             3\n",
      "client_country           3\n",
      "channel                  2\n",
      "message_number          39\n",
      "dtype: int64\n"
     ]
    }
   ],
   "source": [
    "to_del=[i for i,v in enumerate(counts) if v<=1] #Delete Useless Column\n",
    "print(df.columns[to_del])\n",
    "df.drop(df.columns[to_del],axis=1,inplace=True)\n",
    "counts=df.nunique()\n",
    "print(counts)"
   ]
  },
  {
   "cell_type": "code",
   "execution_count": 13,
   "metadata": {},
   "outputs": [
    {
     "name": "stdout",
     "output_type": "stream",
     "text": [
      "False\n",
      "Empty DataFrame\n",
      "Columns: [message_id, customer_id, sent_at, clicked, converted, client_id, gender, customer_country, age, created_at, client_name, product_type, client_country, channel, message_number]\n",
      "Index: []\n"
     ]
    }
   ],
   "source": [
    "dups=df.duplicated()\n",
    "print(dups.any())\n",
    "print(df[dups])\n"
   ]
  },
  {
   "cell_type": "code",
   "execution_count": null,
   "metadata": {},
   "outputs": [],
   "source": [
    "df.drop_duplicates(inplace=True)"
   ]
  },
  {
   "cell_type": "code",
   "execution_count": 29,
   "metadata": {},
   "outputs": [
    {
     "data": {
      "text/plain": [
       "array(['cfcd208495d565ef66e7dff9f98764da',\n",
       "       'cfcd208495d565ef66e7dff9f98764da',\n",
       "       'cfcd208495d565ef66e7dff9f98764da', ...,\n",
       "       'e4da3b7fbbce2345d7772b0674a318d5',\n",
       "       'e4da3b7fbbce2345d7772b0674a318d5',\n",
       "       'e4da3b7fbbce2345d7772b0674a318d5'], dtype=object)"
      ]
     },
     "execution_count": 29,
     "metadata": {},
     "output_type": "execute_result"
    }
   ],
   "source": [
    "data[:,5]"
   ]
  },
  {
   "cell_type": "code",
   "execution_count": 47,
   "metadata": {
    "scrolled": true
   },
   "outputs": [
    {
     "name": "stdout",
     "output_type": "stream",
     "text": [
      "message_id              0\n",
      "customer_id             0\n",
      "sent_at                 0\n",
      "clicked                 0\n",
      "converted               0\n",
      "client_id               0\n",
      "gender              31676\n",
      "customer_country    30146\n",
      "age                 22020\n",
      "created_at              0\n",
      "client_name             0\n",
      "product_type            0\n",
      "client_country          0\n",
      "channel                 0\n",
      "message_number          0\n",
      "dtype: int64\n",
      "message_id           0.000000\n",
      "customer_id          0.000000\n",
      "sent_at              0.000000\n",
      "clicked              0.000000\n",
      "converted            0.000000\n",
      "client_id            0.000000\n",
      "gender              21.704661\n",
      "customer_country    20.656293\n",
      "age                 15.088289\n",
      "created_at           0.000000\n",
      "client_name          0.000000\n",
      "product_type         0.000000\n",
      "client_country       0.000000\n",
      "channel              0.000000\n",
      "message_number       0.000000\n",
      "dtype: float64\n"
     ]
    }
   ],
   "source": [
    "#Count Missing Values\n",
    "print(df.isnull().sum())\n",
    "print(df.isnull().sum()* 100 / len(df))"
   ]
  }
 ],
 "metadata": {
  "kernelspec": {
   "display_name": "Python 3",
   "language": "python",
   "name": "python3"
  },
  "language_info": {
   "codemirror_mode": {
    "name": "ipython",
    "version": 3
   },
   "file_extension": ".py",
   "mimetype": "text/x-python",
   "name": "python",
   "nbconvert_exporter": "python",
   "pygments_lexer": "ipython3",
   "version": "3.7.6"
  }
 },
 "nbformat": 4,
 "nbformat_minor": 4
}
